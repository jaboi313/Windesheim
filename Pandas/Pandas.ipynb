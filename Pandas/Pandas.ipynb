{
 "cells": [
  {
   "cell_type": "code",
   "execution_count": 25,
   "metadata": {},
   "outputs": [
    {
     "name": "stdout",
     "output_type": "stream",
     "text": [
      "   id     naam  postcode letters huisnummer\n",
      "0   1     uron       NaN     NaN          6\n",
      "1   2     lynn    8021.0      CR          2\n",
      "2   3   niekie    7121.0      HM   veertien\n",
      "3   4  noortje       NaN     NaN          2\n",
      "4   5    baloe    7722.0      RB         19\n",
      "5   6      sam    8017.0      AB         10\n",
      "Unieke postcodes : 4\n",
      "Unieke combinaties : 5\n"
     ]
    }
   ],
   "source": [
    "import pandas as pd\n",
    "\n",
    "namen_df = pd.read_excel('namen.xlsx', sheet_name=\"collectie\")\n",
    "bestelling_df = pd.read_csv('bestelling.csv')\n",
    "\n",
    "next_id = namen_df['id'].max() + 1\n",
    "namen_df.loc[len(namen_df)] = [next_id, \"sam\", 8017, \"AB\", 10]\n",
    "\n",
    "print(namen_df)\n",
    "\n",
    "unique_postcodes = namen_df['postcode'].nunique()\n",
    "print(f\"Unieke postcodes : {unique_postcodes}\")\n",
    "\n",
    "unique_combinations = namen_df[['postcode', 'letters']].drop_duplicates().shape[0]\n",
    "print(f\"Unieke combinaties : {unique_combinations}\")"
   ]
  }
 ],
 "metadata": {
  "kernelspec": {
   "display_name": "Python 3",
   "language": "python",
   "name": "python3"
  },
  "language_info": {
   "codemirror_mode": {
    "name": "ipython",
    "version": 3
   },
   "file_extension": ".py",
   "mimetype": "text/x-python",
   "name": "python",
   "nbconvert_exporter": "python",
   "pygments_lexer": "ipython3",
   "version": "3.11.5"
  }
 },
 "nbformat": 4,
 "nbformat_minor": 2
}
